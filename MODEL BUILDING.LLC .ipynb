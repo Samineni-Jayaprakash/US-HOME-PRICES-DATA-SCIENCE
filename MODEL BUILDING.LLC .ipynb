{
 "cells": [
  {
   "cell_type": "markdown",
   "id": "0f432c7a",
   "metadata": {},
   "source": [
    "# MODEL BUILDING "
   ]
  },
  {
   "cell_type": "markdown",
   "id": "65cfb856",
   "metadata": {},
   "source": [
    "***IMPORTING LIBRARIES***"
   ]
  },
  {
   "cell_type": "code",
   "execution_count": 1,
   "id": "57caabeb",
   "metadata": {},
   "outputs": [],
   "source": [
    "import pandas as pd\n",
    "import numpy as np\n",
    "import matplotlib.pyplot as plt\n",
    "from sklearn.model_selection import train_test_split,cross_val_score\n",
    "from sklearn.linear_model import LassoCV\n",
    "from sklearn.metrics import mean_squared_error,r2_score"
   ]
  },
  {
   "cell_type": "code",
   "execution_count": 2,
   "id": "45c4ce7d",
   "metadata": {},
   "outputs": [],
   "source": [
    "final=pd.read_csv('final_data.csv')"
   ]
  },
  {
   "cell_type": "code",
   "execution_count": 3,
   "id": "f7876e40",
   "metadata": {},
   "outputs": [
    {
     "data": {
      "text/html": [
       "<div>\n",
       "<style scoped>\n",
       "    .dataframe tbody tr th:only-of-type {\n",
       "        vertical-align: middle;\n",
       "    }\n",
       "\n",
       "    .dataframe tbody tr th {\n",
       "        vertical-align: top;\n",
       "    }\n",
       "\n",
       "    .dataframe thead th {\n",
       "        text-align: right;\n",
       "    }\n",
       "</style>\n",
       "<table border=\"1\" class=\"dataframe\">\n",
       "  <thead>\n",
       "    <tr style=\"text-align: right;\">\n",
       "      <th></th>\n",
       "      <th>DATE</th>\n",
       "      <th>US HOME PRICE INDEX</th>\n",
       "      <th>GROSS DEMOSTRIC PRODUCT</th>\n",
       "      <th>HOMEOWNERSHIP RATE</th>\n",
       "      <th>HOUSING STARTS</th>\n",
       "      <th>MEDIAN SALES PRICE</th>\n",
       "      <th>MORTGAGE RATE</th>\n",
       "      <th>POPULATION</th>\n",
       "      <th>UNEMP RATE</th>\n",
       "    </tr>\n",
       "  </thead>\n",
       "  <tbody>\n",
       "    <tr>\n",
       "      <th>0</th>\n",
       "      <td>2003-01-01</td>\n",
       "      <td>5.552657</td>\n",
       "      <td>11174.129</td>\n",
       "      <td>68.0</td>\n",
       "      <td>1853.0</td>\n",
       "      <td>12.133507</td>\n",
       "      <td>5.9160</td>\n",
       "      <td>289412.0</td>\n",
       "      <td>1.916923</td>\n",
       "    </tr>\n",
       "    <tr>\n",
       "      <th>1</th>\n",
       "      <td>2003-02-01</td>\n",
       "      <td>5.559566</td>\n",
       "      <td>0.000</td>\n",
       "      <td>68.0</td>\n",
       "      <td>1629.0</td>\n",
       "      <td>12.133507</td>\n",
       "      <td>5.8425</td>\n",
       "      <td>289606.0</td>\n",
       "      <td>1.931521</td>\n",
       "    </tr>\n",
       "    <tr>\n",
       "      <th>2</th>\n",
       "      <td>2003-03-01</td>\n",
       "      <td>5.565654</td>\n",
       "      <td>0.000</td>\n",
       "      <td>68.0</td>\n",
       "      <td>1726.0</td>\n",
       "      <td>12.133507</td>\n",
       "      <td>5.7450</td>\n",
       "      <td>289809.0</td>\n",
       "      <td>1.931521</td>\n",
       "    </tr>\n",
       "    <tr>\n",
       "      <th>3</th>\n",
       "      <td>2003-04-01</td>\n",
       "      <td>5.571272</td>\n",
       "      <td>11312.766</td>\n",
       "      <td>68.0</td>\n",
       "      <td>1643.0</td>\n",
       "      <td>12.164214</td>\n",
       "      <td>5.8125</td>\n",
       "      <td>290024.0</td>\n",
       "      <td>1.945910</td>\n",
       "    </tr>\n",
       "    <tr>\n",
       "      <th>4</th>\n",
       "      <td>2003-05-01</td>\n",
       "      <td>5.577728</td>\n",
       "      <td>0.000</td>\n",
       "      <td>68.0</td>\n",
       "      <td>1751.0</td>\n",
       "      <td>12.164214</td>\n",
       "      <td>5.4840</td>\n",
       "      <td>290250.0</td>\n",
       "      <td>1.960095</td>\n",
       "    </tr>\n",
       "    <tr>\n",
       "      <th>...</th>\n",
       "      <td>...</td>\n",
       "      <td>...</td>\n",
       "      <td>...</td>\n",
       "      <td>...</td>\n",
       "      <td>...</td>\n",
       "      <td>...</td>\n",
       "      <td>...</td>\n",
       "      <td>...</td>\n",
       "      <td>...</td>\n",
       "    </tr>\n",
       "    <tr>\n",
       "      <th>242</th>\n",
       "      <td>2023-03-01</td>\n",
       "      <td>5.669023</td>\n",
       "      <td>0.000</td>\n",
       "      <td>66.0</td>\n",
       "      <td>1380.0</td>\n",
       "      <td>12.969215</td>\n",
       "      <td>6.5440</td>\n",
       "      <td>334753.0</td>\n",
       "      <td>1.504077</td>\n",
       "    </tr>\n",
       "    <tr>\n",
       "      <th>243</th>\n",
       "      <td>2023-04-01</td>\n",
       "      <td>5.669023</td>\n",
       "      <td>27063.012</td>\n",
       "      <td>65.9</td>\n",
       "      <td>1348.0</td>\n",
       "      <td>12.944435</td>\n",
       "      <td>6.3425</td>\n",
       "      <td>334880.0</td>\n",
       "      <td>1.481605</td>\n",
       "    </tr>\n",
       "    <tr>\n",
       "      <th>244</th>\n",
       "      <td>2023-05-01</td>\n",
       "      <td>5.669023</td>\n",
       "      <td>0.000</td>\n",
       "      <td>65.9</td>\n",
       "      <td>1583.0</td>\n",
       "      <td>12.944435</td>\n",
       "      <td>6.4250</td>\n",
       "      <td>335013.0</td>\n",
       "      <td>1.547563</td>\n",
       "    </tr>\n",
       "    <tr>\n",
       "      <th>245</th>\n",
       "      <td>2023-06-01</td>\n",
       "      <td>5.669023</td>\n",
       "      <td>0.000</td>\n",
       "      <td>65.9</td>\n",
       "      <td>1418.0</td>\n",
       "      <td>12.944435</td>\n",
       "      <td>6.7140</td>\n",
       "      <td>335163.0</td>\n",
       "      <td>1.526056</td>\n",
       "    </tr>\n",
       "    <tr>\n",
       "      <th>246</th>\n",
       "      <td>2023-07-01</td>\n",
       "      <td>5.669023</td>\n",
       "      <td>27623.543</td>\n",
       "      <td>66.0</td>\n",
       "      <td>1451.0</td>\n",
       "      <td>12.973866</td>\n",
       "      <td>6.8400</td>\n",
       "      <td>335329.0</td>\n",
       "      <td>1.504077</td>\n",
       "    </tr>\n",
       "  </tbody>\n",
       "</table>\n",
       "<p>247 rows × 9 columns</p>\n",
       "</div>"
      ],
      "text/plain": [
       "           DATE  US HOME PRICE INDEX  GROSS DEMOSTRIC PRODUCT  \\\n",
       "0    2003-01-01             5.552657                11174.129   \n",
       "1    2003-02-01             5.559566                    0.000   \n",
       "2    2003-03-01             5.565654                    0.000   \n",
       "3    2003-04-01             5.571272                11312.766   \n",
       "4    2003-05-01             5.577728                    0.000   \n",
       "..          ...                  ...                      ...   \n",
       "242  2023-03-01             5.669023                    0.000   \n",
       "243  2023-04-01             5.669023                27063.012   \n",
       "244  2023-05-01             5.669023                    0.000   \n",
       "245  2023-06-01             5.669023                    0.000   \n",
       "246  2023-07-01             5.669023                27623.543   \n",
       "\n",
       "     HOMEOWNERSHIP RATE  HOUSING STARTS  MEDIAN SALES PRICE  MORTGAGE RATE  \\\n",
       "0                  68.0          1853.0           12.133507         5.9160   \n",
       "1                  68.0          1629.0           12.133507         5.8425   \n",
       "2                  68.0          1726.0           12.133507         5.7450   \n",
       "3                  68.0          1643.0           12.164214         5.8125   \n",
       "4                  68.0          1751.0           12.164214         5.4840   \n",
       "..                  ...             ...                 ...            ...   \n",
       "242                66.0          1380.0           12.969215         6.5440   \n",
       "243                65.9          1348.0           12.944435         6.3425   \n",
       "244                65.9          1583.0           12.944435         6.4250   \n",
       "245                65.9          1418.0           12.944435         6.7140   \n",
       "246                66.0          1451.0           12.973866         6.8400   \n",
       "\n",
       "     POPULATION  UNEMP RATE  \n",
       "0      289412.0    1.916923  \n",
       "1      289606.0    1.931521  \n",
       "2      289809.0    1.931521  \n",
       "3      290024.0    1.945910  \n",
       "4      290250.0    1.960095  \n",
       "..          ...         ...  \n",
       "242    334753.0    1.504077  \n",
       "243    334880.0    1.481605  \n",
       "244    335013.0    1.547563  \n",
       "245    335163.0    1.526056  \n",
       "246    335329.0    1.504077  \n",
       "\n",
       "[247 rows x 9 columns]"
      ]
     },
     "execution_count": 3,
     "metadata": {},
     "output_type": "execute_result"
    }
   ],
   "source": [
    "final"
   ]
  },
  {
   "cell_type": "markdown",
   "id": "afa1d733",
   "metadata": {},
   "source": [
    "# Data splitting  and scaling\n",
    "### train set -test-set"
   ]
  },
  {
   "cell_type": "code",
   "execution_count": 4,
   "id": "2f76939a",
   "metadata": {},
   "outputs": [],
   "source": [
    "x=final.drop(columns=['DATE',\"US HOME PRICE INDEX\"])\n",
    "y=final['US HOME PRICE INDEX']"
   ]
  },
  {
   "cell_type": "code",
   "execution_count": 5,
   "id": "2a13ff2e",
   "metadata": {},
   "outputs": [],
   "source": [
    "x_train,x_test,y_train,y_test=train_test_split(x,y,test_size=0.2,random_state=40)"
   ]
  },
  {
   "cell_type": "code",
   "execution_count": 6,
   "id": "af1029e8",
   "metadata": {},
   "outputs": [],
   "source": [
    "from sklearn.preprocessing import StandardScaler\n",
    "scaler=StandardScaler()\n",
    "x_train=scaler.fit_transform(x_train)\n",
    "x_test=scaler.transform(x_test)"
   ]
  },
  {
   "cell_type": "markdown",
   "id": "3e46742e",
   "metadata": {},
   "source": [
    "## MODEL TRAINING"
   ]
  },
  {
   "cell_type": "code",
   "execution_count": 7,
   "id": "b6a98b9f",
   "metadata": {},
   "outputs": [],
   "source": [
    "model=LassoCV(alphas=np.logspace(-4,4,100),cv=5)\n",
    "model.fit(x_train,y_train)\n",
    "y_pred=model.predict(x_test)"
   ]
  },
  {
   "cell_type": "code",
   "execution_count": 8,
   "id": "e91cb2fd",
   "metadata": {},
   "outputs": [],
   "source": [
    "optimal_alpha=model.alpha_\n",
    "MSE=mean_squared_error(y_test,y_pred)\n",
    "RMSE=np.sqrt(MSE)\n",
    "r2=r2_score(y_test,y_pred)"
   ]
  },
  {
   "cell_type": "code",
   "execution_count": 9,
   "id": "73e0ae05",
   "metadata": {},
   "outputs": [
    {
     "name": "stdout",
     "output_type": "stream",
     "text": [
      "optimal_alpha:0.0001\n",
      "mean_squared_error(MSE):0.02\n",
      "RMSE:0.13\n",
      "R_squared(R^2):0.64\n"
     ]
    }
   ],
   "source": [
    "print(f'optimal_alpha:{optimal_alpha:0.4f}')\n",
    "print(f'mean_squared_error(MSE):{MSE:.2f}')\n",
    "print(f'RMSE:{RMSE:0.2f}')\n",
    "print(f'R_squared(R^2):{r2:.2f}')"
   ]
  },
  {
   "cell_type": "markdown",
   "id": "f074de6a",
   "metadata": {},
   "source": [
    "### Cross_validation"
   ]
  },
  {
   "cell_type": "code",
   "execution_count": 10,
   "id": "dc85209f",
   "metadata": {},
   "outputs": [
    {
     "name": "stdout",
     "output_type": "stream",
     "text": [
      "cross_validation R_Squared scores:\n",
      "[ 0.93846638 -0.02819838  0.94570699  0.75579813  0.86890068]\n"
     ]
    }
   ],
   "source": [
    "cross_val_scores=cross_val_score(model,x_train,y_train,cv=5,scoring='r2')\n",
    "print('cross_validation R_Squared scores:')\n",
    "print(cross_val_scores)"
   ]
  },
  {
   "cell_type": "code",
   "execution_count": 11,
   "id": "f31e56c4",
   "metadata": {},
   "outputs": [
    {
     "name": "stdout",
     "output_type": "stream",
     "text": [
      "mean R_squared:0.6961\n",
      "standard_deviation of R_squared:0.3685\n"
     ]
    }
   ],
   "source": [
    "mean_r2=cross_val_scores.mean()\n",
    "std_r2=cross_val_scores.std()\n",
    "print(f'mean R_squared:{mean_r2:.4f}')\n",
    "print(f'standard_deviation of R_squared:{std_r2:.4f}')"
   ]
  },
  {
   "cell_type": "code",
   "execution_count": 12,
   "id": "d2620330",
   "metadata": {},
   "outputs": [
    {
     "name": "stdout",
     "output_type": "stream",
     "text": [
      "0.012818785629647396\n",
      "0.5211430121483004\n"
     ]
    }
   ],
   "source": [
    "print(0.1*RMSE)\n",
    "print(0.1*final[\"US HOME PRICE INDEX\"].mean())\n",
    "#rmse should be less than 10% of the mean of us home price index"
   ]
  },
  {
   "cell_type": "markdown",
   "id": "8aa355c7",
   "metadata": {},
   "source": [
    "# Most Prominent features and least prominent features"
   ]
  },
  {
   "cell_type": "code",
   "execution_count": 13,
   "id": "8871366d",
   "metadata": {},
   "outputs": [],
   "source": [
    "lasso_coefs=model.coef_\n",
    "feature_names=x.columns\n",
    "coef_final=pd.DataFrame({'Feature':feature_names,'Coefficient':lasso_coefs})\n",
    "non_zero_coefs_final=coef_final[coef_final['Coefficient']!=0]\n",
    "zero_coefs_final=coef_final[coef_final['Coefficient']==0]"
   ]
  },
  {
   "cell_type": "code",
   "execution_count": 14,
   "id": "cb2702e7",
   "metadata": {},
   "outputs": [
    {
     "data": {
      "text/html": [
       "<div>\n",
       "<style scoped>\n",
       "    .dataframe tbody tr th:only-of-type {\n",
       "        vertical-align: middle;\n",
       "    }\n",
       "\n",
       "    .dataframe tbody tr th {\n",
       "        vertical-align: top;\n",
       "    }\n",
       "\n",
       "    .dataframe thead th {\n",
       "        text-align: right;\n",
       "    }\n",
       "</style>\n",
       "<table border=\"1\" class=\"dataframe\">\n",
       "  <thead>\n",
       "    <tr style=\"text-align: right;\">\n",
       "      <th></th>\n",
       "      <th>Feature</th>\n",
       "      <th>Coefficient</th>\n",
       "    </tr>\n",
       "  </thead>\n",
       "  <tbody>\n",
       "    <tr>\n",
       "      <th>1</th>\n",
       "      <td>HOMEOWNERSHIP RATE</td>\n",
       "      <td>0.073474</td>\n",
       "    </tr>\n",
       "    <tr>\n",
       "      <th>2</th>\n",
       "      <td>HOUSING STARTS</td>\n",
       "      <td>0.053351</td>\n",
       "    </tr>\n",
       "    <tr>\n",
       "      <th>3</th>\n",
       "      <td>MEDIAN SALES PRICE</td>\n",
       "      <td>0.091066</td>\n",
       "    </tr>\n",
       "    <tr>\n",
       "      <th>4</th>\n",
       "      <td>MORTGAGE RATE</td>\n",
       "      <td>0.022082</td>\n",
       "    </tr>\n",
       "    <tr>\n",
       "      <th>5</th>\n",
       "      <td>POPULATION</td>\n",
       "      <td>0.114393</td>\n",
       "    </tr>\n",
       "    <tr>\n",
       "      <th>6</th>\n",
       "      <td>UNEMP RATE</td>\n",
       "      <td>-0.031504</td>\n",
       "    </tr>\n",
       "  </tbody>\n",
       "</table>\n",
       "</div>"
      ],
      "text/plain": [
       "              Feature  Coefficient\n",
       "1  HOMEOWNERSHIP RATE     0.073474\n",
       "2      HOUSING STARTS     0.053351\n",
       "3  MEDIAN SALES PRICE     0.091066\n",
       "4       MORTGAGE RATE     0.022082\n",
       "5          POPULATION     0.114393\n",
       "6          UNEMP RATE    -0.031504"
      ]
     },
     "execution_count": 14,
     "metadata": {},
     "output_type": "execute_result"
    }
   ],
   "source": [
    "non_zero_coefs_final"
   ]
  },
  {
   "cell_type": "code",
   "execution_count": 15,
   "id": "64460b62",
   "metadata": {
    "scrolled": true
   },
   "outputs": [
    {
     "data": {
      "text/html": [
       "<div>\n",
       "<style scoped>\n",
       "    .dataframe tbody tr th:only-of-type {\n",
       "        vertical-align: middle;\n",
       "    }\n",
       "\n",
       "    .dataframe tbody tr th {\n",
       "        vertical-align: top;\n",
       "    }\n",
       "\n",
       "    .dataframe thead th {\n",
       "        text-align: right;\n",
       "    }\n",
       "</style>\n",
       "<table border=\"1\" class=\"dataframe\">\n",
       "  <thead>\n",
       "    <tr style=\"text-align: right;\">\n",
       "      <th></th>\n",
       "      <th>Feature</th>\n",
       "      <th>Coefficient</th>\n",
       "    </tr>\n",
       "  </thead>\n",
       "  <tbody>\n",
       "    <tr>\n",
       "      <th>0</th>\n",
       "      <td>GROSS DEMOSTRIC PRODUCT</td>\n",
       "      <td>-0.0</td>\n",
       "    </tr>\n",
       "  </tbody>\n",
       "</table>\n",
       "</div>"
      ],
      "text/plain": [
       "                   Feature  Coefficient\n",
       "0  GROSS DEMOSTRIC PRODUCT         -0.0"
      ]
     },
     "execution_count": 15,
     "metadata": {},
     "output_type": "execute_result"
    }
   ],
   "source": [
    "zero_coefs_final"
   ]
  },
  {
   "cell_type": "code",
   "execution_count": 16,
   "id": "24d4f817",
   "metadata": {
    "scrolled": true
   },
   "outputs": [
    {
     "data": {
      "image/png": "[encoded data removed]",
      "text/plain": [
       "<Figure size 800x600 with 1 Axes>"
      ]
     },
     "metadata": {},
     "output_type": "display_data"
    }
   ],
   "source": [
    "plt.figure(figsize=(8, 6))\n",
    "plt.scatter(y_test, y_pred, alpha=0.5)\n",
    "plt.xlabel(\"Actual_values\")\n",
    "plt.ylabel(\"Predicted_Values\")\n",
    "plt.title(\"Predicted values vs. Actual Values\")\n",
    "plt.grid(True)\n",
    "\n",
    "# Add a diagonal line for reference (perfect predictions)\n",
    "x = np.linspace(min(y_test), max(y_test), 100)\n",
    "plt.plot(x, x, color='green', linestyle='-')\n",
    "plt.show()"
   ]
  },
  {
   "cell_type": "code",
   "execution_count": null,
   "id": "3e399d1a",
   "metadata": {},
   "outputs": [],
   "source": []
  }
 ],
 "metadata": {
  "kernelspec": {
   "display_name": "Python 3 (ipykernel)",
   "language": "python",
   "name": "python3"
  },
  "language_info": {
   "codemirror_mode": {
    "name": "ipython",
    "version": 3
   },
   "file_extension": ".py",
   "mimetype": "text/x-python",
   "name": "python",
   "nbconvert_exporter": "python",
   "pygments_lexer": "ipython3",
   "version": "3.11.5"
  }
 },
 "nbformat": 4,
 "nbformat_minor": 5
}
