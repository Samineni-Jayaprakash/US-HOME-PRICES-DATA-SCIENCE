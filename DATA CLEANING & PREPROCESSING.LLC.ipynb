{
 "cells": [
  {
   "cell_type": "markdown",
   "id": "32044838",
   "metadata": {},
   "source": [
    "# DATA CLEANING AND PREPROCESSING"
   ]
  },
  {
   "cell_type": "markdown",
   "id": "183e3cc0",
   "metadata": {},
   "source": [
    "**Data Source** : FRED [Federal Reserve Economic data]\n",
    "              We have collected 20 years data of US Home Prices from FRED website"
   ]
  },
  {
   "cell_type": "markdown",
   "id": "172e1d93",
   "metadata": {},
   "source": [
    "**Importing the necessary libraries**\n"
   ]
  },
  {
   "cell_type": "code",
   "execution_count": 1,
   "id": "c936c61c",
   "metadata": {},
   "outputs": [],
   "source": [
    "# import pandas  library and make it as pd\n",
    "import pandas as pd\n",
    "# import numpy library and make it as np\n",
    "import numpy as np\n",
    "# import matplotlib.pyplot  and make it as plt its is used for visuvalization\n",
    "import matplotlib.pyplot as plt\n",
    "# import seaborn library and make it as sns\n",
    "import seaborn as sns\n",
    "from warnings import filterwarnings \n",
    "filterwarnings(\"ignore\")"
   ]
  },
  {
   "cell_type": "code",
   "execution_count": 2,
   "id": "4f80842b",
   "metadata": {},
   "outputs": [],
   "source": [
    "import os\n",
    "directory_path=\"Cleaned data\"\n",
    "os.makedirs(directory_path,exist_ok=True)"
   ]
  },
  {
   "cell_type": "markdown",
   "id": "bc70ebca",
   "metadata": {},
   "source": [
    "# Target data\n",
    "\\\\Load the data into pandas dataframe\\\\\n",
    "**S&P/ case-shiller U.S. National home price index**\n"
   ]
  },
  {
   "cell_type": "code",
   "execution_count": 3,
   "id": "e9dff910",
   "metadata": {},
   "outputs": [
    {
     "data": {
      "text/html": [
       "<div>\n",
       "<style scoped>\n",
       "    .dataframe tbody tr th:only-of-type {\n",
       "        vertical-align: middle;\n",
       "    }\n",
       "\n",
       "    .dataframe tbody tr th {\n",
       "        vertical-align: top;\n",
       "    }\n",
       "\n",
       "    .dataframe thead th {\n",
       "        text-align: right;\n",
       "    }\n",
       "</style>\n",
       "<table border=\"1\" class=\"dataframe\">\n",
       "  <thead>\n",
       "    <tr style=\"text-align: right;\">\n",
       "      <th></th>\n",
       "      <th>US HOME PRICE INDEX</th>\n",
       "    </tr>\n",
       "    <tr>\n",
       "      <th>DATE</th>\n",
       "      <th></th>\n",
       "    </tr>\n",
       "  </thead>\n",
       "  <tbody>\n",
       "    <tr>\n",
       "      <th>2003-01-01</th>\n",
       "      <td>128.461</td>\n",
       "    </tr>\n",
       "    <tr>\n",
       "      <th>2003-02-01</th>\n",
       "      <td>129.355</td>\n",
       "    </tr>\n",
       "    <tr>\n",
       "      <th>2003-03-01</th>\n",
       "      <td>130.148</td>\n",
       "    </tr>\n",
       "    <tr>\n",
       "      <th>2003-04-01</th>\n",
       "      <td>130.884</td>\n",
       "    </tr>\n",
       "    <tr>\n",
       "      <th>2003-05-01</th>\n",
       "      <td>131.735</td>\n",
       "    </tr>\n",
       "  </tbody>\n",
       "</table>\n",
       "</div>"
      ],
      "text/plain": [
       "            US HOME PRICE INDEX\n",
       "DATE                           \n",
       "2003-01-01              128.461\n",
       "2003-02-01              129.355\n",
       "2003-03-01              130.148\n",
       "2003-04-01              130.884\n",
       "2003-05-01              131.735"
      ]
     },
     "execution_count": 3,
     "metadata": {},
     "output_type": "execute_result"
    }
   ],
   "source": [
    "data=pd.read_csv(\"CSUSHPISA.csv\",index_col=['DATE'])\n",
    "# change the column name using rename \n",
    "data.rename(columns={\"CSUSHPISA\":\"US HOME PRICE INDEX\"},inplace= True)\n",
    "data.head()"
   ]
  },
  {
   "cell_type": "code",
   "execution_count": 4,
   "id": "83b14d81",
   "metadata": {},
   "outputs": [],
   "source": [
    "data.index=pd.to_datetime(data.index)\n",
    "data=data['2003-01-01':'2003-07-01']"
   ]
  },
  {
   "cell_type": "code",
   "execution_count": 5,
   "id": "3b84861a",
   "metadata": {},
   "outputs": [
    {
     "data": {
      "text/plain": [
       "(7, 1)"
      ]
     },
     "execution_count": 5,
     "metadata": {},
     "output_type": "execute_result"
    }
   ],
   "source": [
    "data.shape"
   ]
  },
  {
   "cell_type": "code",
   "execution_count": 6,
   "id": "7b6ca0b7",
   "metadata": {},
   "outputs": [
    {
     "data": {
      "text/plain": [
       "US HOME PRICE INDEX    7\n",
       "dtype: int64"
      ]
     },
     "execution_count": 6,
     "metadata": {},
     "output_type": "execute_result"
    }
   ],
   "source": [
    "data.count()"
   ]
  },
  {
   "cell_type": "code",
   "execution_count": 7,
   "id": "cb7e7e76",
   "metadata": {},
   "outputs": [],
   "source": [
    "data.to_csv(\"Cleaned data/data.csv\")"
   ]
  },
  {
   "cell_type": "code",
   "execution_count": 8,
   "id": "59014195",
   "metadata": {},
   "outputs": [
    {
     "name": "stdout",
     "output_type": "stream",
     "text": [
      "<class 'pandas.core.frame.DataFrame'>\n",
      "DatetimeIndex: 7 entries, 2003-01-01 to 2003-07-01\n",
      "Data columns (total 1 columns):\n",
      " #   Column               Non-Null Count  Dtype  \n",
      "---  ------               --------------  -----  \n",
      " 0   US HOME PRICE INDEX  7 non-null      float64\n",
      "dtypes: float64(1)\n",
      "memory usage: 112.0 bytes\n"
     ]
    }
   ],
   "source": [
    "data.info()"
   ]
  },
  {
   "cell_type": "code",
   "execution_count": 9,
   "id": "cb59bb9c",
   "metadata": {},
   "outputs": [
    {
     "data": {
      "text/html": [
       "<div>\n",
       "<style scoped>\n",
       "    .dataframe tbody tr th:only-of-type {\n",
       "        vertical-align: middle;\n",
       "    }\n",
       "\n",
       "    .dataframe tbody tr th {\n",
       "        vertical-align: top;\n",
       "    }\n",
       "\n",
       "    .dataframe thead th {\n",
       "        text-align: right;\n",
       "    }\n",
       "</style>\n",
       "<table border=\"1\" class=\"dataframe\">\n",
       "  <thead>\n",
       "    <tr style=\"text-align: right;\">\n",
       "      <th></th>\n",
       "      <th>US HOME PRICE INDEX</th>\n",
       "    </tr>\n",
       "  </thead>\n",
       "  <tbody>\n",
       "    <tr>\n",
       "      <th>count</th>\n",
       "      <td>7.000000</td>\n",
       "    </tr>\n",
       "    <tr>\n",
       "      <th>mean</th>\n",
       "      <td>131.001286</td>\n",
       "    </tr>\n",
       "    <tr>\n",
       "      <th>std</th>\n",
       "      <td>1.864718</td>\n",
       "    </tr>\n",
       "    <tr>\n",
       "      <th>min</th>\n",
       "      <td>128.461000</td>\n",
       "    </tr>\n",
       "    <tr>\n",
       "      <th>25%</th>\n",
       "      <td>129.751500</td>\n",
       "    </tr>\n",
       "    <tr>\n",
       "      <th>50%</th>\n",
       "      <td>130.884000</td>\n",
       "    </tr>\n",
       "    <tr>\n",
       "      <th>75%</th>\n",
       "      <td>132.192000</td>\n",
       "    </tr>\n",
       "    <tr>\n",
       "      <th>max</th>\n",
       "      <td>133.777000</td>\n",
       "    </tr>\n",
       "  </tbody>\n",
       "</table>\n",
       "</div>"
      ],
      "text/plain": [
       "       US HOME PRICE INDEX\n",
       "count             7.000000\n",
       "mean            131.001286\n",
       "std               1.864718\n",
       "min             128.461000\n",
       "25%             129.751500\n",
       "50%             130.884000\n",
       "75%             132.192000\n",
       "max             133.777000"
      ]
     },
     "execution_count": 9,
     "metadata": {},
     "output_type": "execute_result"
    }
   ],
   "source": [
    "data.describe()"
   ]
  },
  {
   "cell_type": "code",
   "execution_count": 10,
   "id": "9cb99969",
   "metadata": {},
   "outputs": [
    {
     "data": {
      "text/plain": [
       "US HOME PRICE INDEX    0\n",
       "dtype: int64"
      ]
     },
     "execution_count": 10,
     "metadata": {},
     "output_type": "execute_result"
    }
   ],
   "source": [
    "data.isna().sum()"
   ]
  },
  {
   "cell_type": "code",
   "execution_count": 11,
   "id": "076d55fe",
   "metadata": {},
   "outputs": [
    {
     "data": {
      "text/plain": [
       "0"
      ]
     },
     "execution_count": 11,
     "metadata": {},
     "output_type": "execute_result"
    }
   ],
   "source": [
    "data.duplicated().sum()"
   ]
  },
  {
   "cell_type": "markdown",
   "id": "c6047fad",
   "metadata": {},
   "source": [
    "#### The main key factors that influence US home prices nationally. We building a data science model that explains how these factors impacted home prices over the last 20 years.Using the S&P Case-Schiller Home Price Index as a proxy for home prices###"
   ]
  },
  {
   "cell_type": "markdown",
   "id": "f1edf520",
   "metadata": {},
   "source": [
    "The S&P Case-Shiller U.S. Home Prices Index is influenced by various economic and demographic factors. Among the options you've listed, the main key factors that impact the S&P Case-Shiller U.S. Home Prices Index include:\n",
    "\n",
    "1. POPTHM (Population)\n",
    "2. GDP (Gross Domestic Product)\n",
    "3. MORTGAGE RATE\n",
    "4. HOUSING STARTS (HOUST)\n",
    "5. MEDIAN SALES PRICE (MSPUS)\n",
    "6. HOMEOWNERSHIP RATE (RSAHORUSQ1565)\n",
    "7. UNRATE (Unemployment Rate)\n",
    "These key factors play significant roles in influencing the S&P Case-Shiller U.S. Home Prices Index and are important considerations for understanding the dynamics of the housing market. "
   ]
  },
  {
   "cell_type": "markdown",
   "id": "4c865b1d",
   "metadata": {},
   "source": [
    "1. POPTHM (Population)\n",
    "   - Changes in the population size and demographics can impact the demand for housing, subsequently influencing home prices."
   ]
  },
  {
   "cell_type": "code",
   "execution_count": 12,
   "id": "1d3b0447",
   "metadata": {},
   "outputs": [
    {
     "data": {
      "text/html": [
       "<div>\n",
       "<style scoped>\n",
       "    .dataframe tbody tr th:only-of-type {\n",
       "        vertical-align: middle;\n",
       "    }\n",
       "\n",
       "    .dataframe tbody tr th {\n",
       "        vertical-align: top;\n",
       "    }\n",
       "\n",
       "    .dataframe thead th {\n",
       "        text-align: right;\n",
       "    }\n",
       "</style>\n",
       "<table border=\"1\" class=\"dataframe\">\n",
       "  <thead>\n",
       "    <tr style=\"text-align: right;\">\n",
       "      <th></th>\n",
       "      <th>POPULATION</th>\n",
       "    </tr>\n",
       "    <tr>\n",
       "      <th>DATE</th>\n",
       "      <th></th>\n",
       "    </tr>\n",
       "  </thead>\n",
       "  <tbody>\n",
       "    <tr>\n",
       "      <th>2003-01-01</th>\n",
       "      <td>289412.0</td>\n",
       "    </tr>\n",
       "    <tr>\n",
       "      <th>2003-02-01</th>\n",
       "      <td>289606.0</td>\n",
       "    </tr>\n",
       "    <tr>\n",
       "      <th>2003-03-01</th>\n",
       "      <td>289809.0</td>\n",
       "    </tr>\n",
       "    <tr>\n",
       "      <th>2003-04-01</th>\n",
       "      <td>290024.0</td>\n",
       "    </tr>\n",
       "    <tr>\n",
       "      <th>2003-05-01</th>\n",
       "      <td>290250.0</td>\n",
       "    </tr>\n",
       "  </tbody>\n",
       "</table>\n",
       "</div>"
      ],
      "text/plain": [
       "            POPULATION\n",
       "DATE                  \n",
       "2003-01-01    289412.0\n",
       "2003-02-01    289606.0\n",
       "2003-03-01    289809.0\n",
       "2003-04-01    290024.0\n",
       "2003-05-01    290250.0"
      ]
     },
     "execution_count": 12,
     "metadata": {},
     "output_type": "execute_result"
    }
   ],
   "source": [
    "population=pd.read_csv(\"POPTHM.csv\")\n",
    "population.rename(columns={\"POPTHM\":'POPULATION'},inplace= True)\n",
    "population.set_index(\"DATE\",inplace=True)\n",
    "population.head()"
   ]
  },
  {
   "cell_type": "code",
   "execution_count": 13,
   "id": "a69f931d",
   "metadata": {},
   "outputs": [],
   "source": [
    "population.index=pd.to_datetime(population.index)\n",
    "population=population[\"2003-01-01\":\"2023-07-01\"]"
   ]
  },
  {
   "cell_type": "code",
   "execution_count": 14,
   "id": "ac043c95",
   "metadata": {},
   "outputs": [
    {
     "data": {
      "text/plain": [
       "(247, 1)"
      ]
     },
     "execution_count": 14,
     "metadata": {},
     "output_type": "execute_result"
    }
   ],
   "source": [
    "population.shape"
   ]
  },
  {
   "cell_type": "code",
   "execution_count": 15,
   "id": "d075728c",
   "metadata": {},
   "outputs": [
    {
     "data": {
      "text/plain": [
       "POPULATION    247\n",
       "dtype: int64"
      ]
     },
     "execution_count": 15,
     "metadata": {},
     "output_type": "execute_result"
    }
   ],
   "source": [
    "population.count()"
   ]
  },
  {
   "cell_type": "code",
   "execution_count": 16,
   "id": "f17f5f90",
   "metadata": {},
   "outputs": [
    {
     "name": "stdout",
     "output_type": "stream",
     "text": [
      "<class 'pandas.core.frame.DataFrame'>\n",
      "DatetimeIndex: 247 entries, 2003-01-01 to 2023-07-01\n",
      "Data columns (total 1 columns):\n",
      " #   Column      Non-Null Count  Dtype  \n",
      "---  ------      --------------  -----  \n",
      " 0   POPULATION  247 non-null    float64\n",
      "dtypes: float64(1)\n",
      "memory usage: 3.9 KB\n"
     ]
    }
   ],
   "source": [
    "population.info()"
   ]
  },
  {
   "cell_type": "code",
   "execution_count": 17,
   "id": "9b5e2d32",
   "metadata": {},
   "outputs": [
    {
     "data": {
      "text/html": [
       "<div>\n",
       "<style scoped>\n",
       "    .dataframe tbody tr th:only-of-type {\n",
       "        vertical-align: middle;\n",
       "    }\n",
       "\n",
       "    .dataframe tbody tr th {\n",
       "        vertical-align: top;\n",
       "    }\n",
       "\n",
       "    .dataframe thead th {\n",
       "        text-align: right;\n",
       "    }\n",
       "</style>\n",
       "<table border=\"1\" class=\"dataframe\">\n",
       "  <thead>\n",
       "    <tr style=\"text-align: right;\">\n",
       "      <th></th>\n",
       "      <th>POPULATION</th>\n",
       "    </tr>\n",
       "  </thead>\n",
       "  <tbody>\n",
       "    <tr>\n",
       "      <th>count</th>\n",
       "      <td>247.000000</td>\n",
       "    </tr>\n",
       "    <tr>\n",
       "      <th>mean</th>\n",
       "      <td>315387.149798</td>\n",
       "    </tr>\n",
       "    <tr>\n",
       "      <th>std</th>\n",
       "      <td>13928.173534</td>\n",
       "    </tr>\n",
       "    <tr>\n",
       "      <th>min</th>\n",
       "      <td>289412.000000</td>\n",
       "    </tr>\n",
       "    <tr>\n",
       "      <th>25%</th>\n",
       "      <td>303600.500000</td>\n",
       "    </tr>\n",
       "    <tr>\n",
       "      <th>50%</th>\n",
       "      <td>316535.000000</td>\n",
       "    </tr>\n",
       "    <tr>\n",
       "      <th>75%</th>\n",
       "      <td>328606.500000</td>\n",
       "    </tr>\n",
       "    <tr>\n",
       "      <th>max</th>\n",
       "      <td>335329.000000</td>\n",
       "    </tr>\n",
       "  </tbody>\n",
       "</table>\n",
       "</div>"
      ],
      "text/plain": [
       "          POPULATION\n",
       "count     247.000000\n",
       "mean   315387.149798\n",
       "std     13928.173534\n",
       "min    289412.000000\n",
       "25%    303600.500000\n",
       "50%    316535.000000\n",
       "75%    328606.500000\n",
       "max    335329.000000"
      ]
     },
     "execution_count": 17,
     "metadata": {},
     "output_type": "execute_result"
    }
   ],
   "source": [
    "population.describe()"
   ]
  },
  {
   "cell_type": "code",
   "execution_count": 18,
   "id": "d2469b7f",
   "metadata": {},
   "outputs": [
    {
     "data": {
      "text/plain": [
       "POPULATION    0\n",
       "dtype: int64"
      ]
     },
     "execution_count": 18,
     "metadata": {},
     "output_type": "execute_result"
    }
   ],
   "source": [
    "population.isna().sum()"
   ]
  },
  {
   "cell_type": "code",
   "execution_count": 19,
   "id": "8804b569",
   "metadata": {},
   "outputs": [],
   "source": [
    "population.to_csv(\"Cleaned data/population.csv\")"
   ]
  },
  {
   "cell_type": "markdown",
   "id": "e10a4c4d",
   "metadata": {},
   "source": [
    "2. GDP (Gross Domestic Product)\n",
    "   - The overall economic performance, as measured by GDP, can affect consumer confidence, income levels, and housing demand, all of which impact home prices."
   ]
  },
  {
   "cell_type": "code",
   "execution_count": 20,
   "id": "9210bd69",
   "metadata": {},
   "outputs": [
    {
     "data": {
      "text/html": [
       "<div>\n",
       "<style scoped>\n",
       "    .dataframe tbody tr th:only-of-type {\n",
       "        vertical-align: middle;\n",
       "    }\n",
       "\n",
       "    .dataframe tbody tr th {\n",
       "        vertical-align: top;\n",
       "    }\n",
       "\n",
       "    .dataframe thead th {\n",
       "        text-align: right;\n",
       "    }\n",
       "</style>\n",
       "<table border=\"1\" class=\"dataframe\">\n",
       "  <thead>\n",
       "    <tr style=\"text-align: right;\">\n",
       "      <th></th>\n",
       "      <th>GROSS DEMOSTRIC PRODUCT</th>\n",
       "    </tr>\n",
       "    <tr>\n",
       "      <th>DATE</th>\n",
       "      <th></th>\n",
       "    </tr>\n",
       "  </thead>\n",
       "  <tbody>\n",
       "    <tr>\n",
       "      <th>2003-01-01</th>\n",
       "      <td>11174.129</td>\n",
       "    </tr>\n",
       "    <tr>\n",
       "      <th>2003-04-01</th>\n",
       "      <td>11312.766</td>\n",
       "    </tr>\n",
       "    <tr>\n",
       "      <th>2003-07-01</th>\n",
       "      <td>11566.669</td>\n",
       "    </tr>\n",
       "    <tr>\n",
       "      <th>2003-10-01</th>\n",
       "      <td>11772.234</td>\n",
       "    </tr>\n",
       "    <tr>\n",
       "      <th>2004-01-01</th>\n",
       "      <td>11923.447</td>\n",
       "    </tr>\n",
       "    <tr>\n",
       "      <th>...</th>\n",
       "      <td>...</td>\n",
       "    </tr>\n",
       "    <tr>\n",
       "      <th>2022-07-01</th>\n",
       "      <td>25994.639</td>\n",
       "    </tr>\n",
       "    <tr>\n",
       "      <th>2022-10-01</th>\n",
       "      <td>26408.405</td>\n",
       "    </tr>\n",
       "    <tr>\n",
       "      <th>2023-01-01</th>\n",
       "      <td>26813.601</td>\n",
       "    </tr>\n",
       "    <tr>\n",
       "      <th>2023-04-01</th>\n",
       "      <td>27063.012</td>\n",
       "    </tr>\n",
       "    <tr>\n",
       "      <th>2023-07-01</th>\n",
       "      <td>27623.543</td>\n",
       "    </tr>\n",
       "  </tbody>\n",
       "</table>\n",
       "<p>83 rows × 1 columns</p>\n",
       "</div>"
      ],
      "text/plain": [
       "            GROSS DEMOSTRIC PRODUCT\n",
       "DATE                               \n",
       "2003-01-01                11174.129\n",
       "2003-04-01                11312.766\n",
       "2003-07-01                11566.669\n",
       "2003-10-01                11772.234\n",
       "2004-01-01                11923.447\n",
       "...                             ...\n",
       "2022-07-01                25994.639\n",
       "2022-10-01                26408.405\n",
       "2023-01-01                26813.601\n",
       "2023-04-01                27063.012\n",
       "2023-07-01                27623.543\n",
       "\n",
       "[83 rows x 1 columns]"
      ]
     },
     "execution_count": 20,
     "metadata": {},
     "output_type": "execute_result"
    }
   ],
   "source": [
    "gdp=pd.read_csv(\"GDP.csv\")\n",
    "gdp.rename(columns={'GDP':'GROSS DEMOSTRIC PRODUCT'},inplace=True)\n",
    "gdp.set_index('DATE', inplace =True)\n",
    "gdp"
   ]
  },
  {
   "cell_type": "code",
   "execution_count": 21,
   "id": "27671f19",
   "metadata": {},
   "outputs": [],
   "source": [
    "# Setting DATE as index, column renaming, setting DATE as index, filtering data from \"1987-01-01\":\"2023-07-01\"\n",
    "\n",
    "gdp.index = pd.to_datetime(gdp.index)\n",
    "\n",
    "# Resampling\n",
    "gdp = gdp.resample('M').ffill()\n",
    "\n",
    "# Set the day of the index to 1\n",
    "gdp.index = gdp.index.map(lambda x: x.replace(day=1))\n",
    "gdp = gdp[\"2003-01-01\":\"2023-07-01\"]"
   ]
  },
  {
   "cell_type": "code",
   "execution_count": 22,
   "id": "1af15027",
   "metadata": {},
   "outputs": [
    {
     "data": {
      "text/plain": [
       "(247, 1)"
      ]
     },
     "execution_count": 22,
     "metadata": {},
     "output_type": "execute_result"
    }
   ],
   "source": [
    "gdp.shape"
   ]
  },
  {
   "cell_type": "code",
   "execution_count": 23,
   "id": "961b348b",
   "metadata": {},
   "outputs": [
    {
     "name": "stdout",
     "output_type": "stream",
     "text": [
      "<class 'pandas.core.frame.DataFrame'>\n",
      "DatetimeIndex: 247 entries, 2003-01-01 to 2023-07-01\n",
      "Data columns (total 1 columns):\n",
      " #   Column                   Non-Null Count  Dtype  \n",
      "---  ------                   --------------  -----  \n",
      " 0   GROSS DEMOSTRIC PRODUCT  247 non-null    float64\n",
      "dtypes: float64(1)\n",
      "memory usage: 3.9 KB\n"
     ]
    }
   ],
   "source": [
    "gdp.info()"
   ]
  },
  {
   "cell_type": "code",
   "execution_count": 24,
   "id": "b334ef11",
   "metadata": {},
   "outputs": [
    {
     "data": {
      "text/html": [
       "<div>\n",
       "<style scoped>\n",
       "    .dataframe tbody tr th:only-of-type {\n",
       "        vertical-align: middle;\n",
       "    }\n",
       "\n",
       "    .dataframe tbody tr th {\n",
       "        vertical-align: top;\n",
       "    }\n",
       "\n",
       "    .dataframe thead th {\n",
       "        text-align: right;\n",
       "    }\n",
       "</style>\n",
       "<table border=\"1\" class=\"dataframe\">\n",
       "  <thead>\n",
       "    <tr style=\"text-align: right;\">\n",
       "      <th></th>\n",
       "      <th>GROSS DEMOSTRIC PRODUCT</th>\n",
       "    </tr>\n",
       "  </thead>\n",
       "  <tbody>\n",
       "    <tr>\n",
       "      <th>count</th>\n",
       "      <td>247.000000</td>\n",
       "    </tr>\n",
       "    <tr>\n",
       "      <th>mean</th>\n",
       "      <td>17536.723441</td>\n",
       "    </tr>\n",
       "    <tr>\n",
       "      <th>std</th>\n",
       "      <td>4091.442895</td>\n",
       "    </tr>\n",
       "    <tr>\n",
       "      <th>min</th>\n",
       "      <td>11174.129000</td>\n",
       "    </tr>\n",
       "    <tr>\n",
       "      <th>25%</th>\n",
       "      <td>14448.882000</td>\n",
       "    </tr>\n",
       "    <tr>\n",
       "      <th>50%</th>\n",
       "      <td>16728.687000</td>\n",
       "    </tr>\n",
       "    <tr>\n",
       "      <th>75%</th>\n",
       "      <td>20328.553000</td>\n",
       "    </tr>\n",
       "    <tr>\n",
       "      <th>max</th>\n",
       "      <td>27623.543000</td>\n",
       "    </tr>\n",
       "  </tbody>\n",
       "</table>\n",
       "</div>"
      ],
      "text/plain": [
       "       GROSS DEMOSTRIC PRODUCT\n",
       "count               247.000000\n",
       "mean              17536.723441\n",
       "std                4091.442895\n",
       "min               11174.129000\n",
       "25%               14448.882000\n",
       "50%               16728.687000\n",
       "75%               20328.553000\n",
       "max               27623.543000"
      ]
     },
     "execution_count": 24,
     "metadata": {},
     "output_type": "execute_result"
    }
   ],
   "source": [
    "gdp.describe()"
   ]
  },
  {
   "cell_type": "code",
   "execution_count": 25,
   "id": "78dd8965",
   "metadata": {},
   "outputs": [],
   "source": [
    "gdp.to_csv(\"Cleaned data/gdp.csv\")"
   ]
  },
  {
   "cell_type": "markdown",
   "id": "60107fd4",
   "metadata": {},
   "source": [
    "3. MORTGAGE RATE\n",
    "   - Fluctuations in mortgage rates affect affordability, which in turn influences the demand for housing and housing prices."
   ]
  },
  {
   "cell_type": "code",
   "execution_count": 26,
   "id": "95c43dc8",
   "metadata": {},
   "outputs": [
    {
     "data": {
      "text/html": [
       "<div>\n",
       "<style scoped>\n",
       "    .dataframe tbody tr th:only-of-type {\n",
       "        vertical-align: middle;\n",
       "    }\n",
       "\n",
       "    .dataframe tbody tr th {\n",
       "        vertical-align: top;\n",
       "    }\n",
       "\n",
       "    .dataframe thead th {\n",
       "        text-align: right;\n",
       "    }\n",
       "</style>\n",
       "<table border=\"1\" class=\"dataframe\">\n",
       "  <thead>\n",
       "    <tr style=\"text-align: right;\">\n",
       "      <th></th>\n",
       "      <th>MORTGAGE RATE</th>\n",
       "    </tr>\n",
       "    <tr>\n",
       "      <th>DATE</th>\n",
       "      <th></th>\n",
       "    </tr>\n",
       "  </thead>\n",
       "  <tbody>\n",
       "    <tr>\n",
       "      <th>2003-01-01</th>\n",
       "      <td>5.9160</td>\n",
       "    </tr>\n",
       "    <tr>\n",
       "      <th>2003-02-01</th>\n",
       "      <td>5.8425</td>\n",
       "    </tr>\n",
       "    <tr>\n",
       "      <th>2003-03-01</th>\n",
       "      <td>5.7450</td>\n",
       "    </tr>\n",
       "    <tr>\n",
       "      <th>2003-04-01</th>\n",
       "      <td>5.8125</td>\n",
       "    </tr>\n",
       "    <tr>\n",
       "      <th>2003-05-01</th>\n",
       "      <td>5.4840</td>\n",
       "    </tr>\n",
       "    <tr>\n",
       "      <th>...</th>\n",
       "      <td>...</td>\n",
       "    </tr>\n",
       "    <tr>\n",
       "      <th>2023-03-01</th>\n",
       "      <td>6.5440</td>\n",
       "    </tr>\n",
       "    <tr>\n",
       "      <th>2023-04-01</th>\n",
       "      <td>6.3425</td>\n",
       "    </tr>\n",
       "    <tr>\n",
       "      <th>2023-05-01</th>\n",
       "      <td>6.4250</td>\n",
       "    </tr>\n",
       "    <tr>\n",
       "      <th>2023-06-01</th>\n",
       "      <td>6.7140</td>\n",
       "    </tr>\n",
       "    <tr>\n",
       "      <th>2023-07-01</th>\n",
       "      <td>6.8400</td>\n",
       "    </tr>\n",
       "  </tbody>\n",
       "</table>\n",
       "<p>247 rows × 1 columns</p>\n",
       "</div>"
      ],
      "text/plain": [
       "            MORTGAGE RATE\n",
       "DATE                     \n",
       "2003-01-01         5.9160\n",
       "2003-02-01         5.8425\n",
       "2003-03-01         5.7450\n",
       "2003-04-01         5.8125\n",
       "2003-05-01         5.4840\n",
       "...                   ...\n",
       "2023-03-01         6.5440\n",
       "2023-04-01         6.3425\n",
       "2023-05-01         6.4250\n",
       "2023-06-01         6.7140\n",
       "2023-07-01         6.8400\n",
       "\n",
       "[247 rows x 1 columns]"
      ]
     },
     "execution_count": 26,
     "metadata": {},
     "output_type": "execute_result"
    }
   ],
   "source": [
    "mortgage=pd.read_csv(\"MORTGAGE30US.csv\",index_col=[\"DATE\"])\n",
    "mortgage.rename(columns={'MORTGAGE30US':'MORTGAGE RATE'},inplace=True)\n",
    "mortgage"
   ]
  },
  {
   "cell_type": "code",
   "execution_count": 27,
   "id": "5e0821c5",
   "metadata": {},
   "outputs": [],
   "source": [
    "mortgage.index=pd.to_datetime(mortgage.index)\n",
    "mortgage=mortgage[\"2003-01-01\":\"2023-07-01\"]"
   ]
  },
  {
   "cell_type": "code",
   "execution_count": 28,
   "id": "90adc7d0",
   "metadata": {},
   "outputs": [
    {
     "data": {
      "text/plain": [
       "(247, 1)"
      ]
     },
     "execution_count": 28,
     "metadata": {},
     "output_type": "execute_result"
    }
   ],
   "source": [
    "mortgage.shape"
   ]
  },
  {
   "cell_type": "code",
   "execution_count": 29,
   "id": "218fbb0f",
   "metadata": {},
   "outputs": [
    {
     "name": "stdout",
     "output_type": "stream",
     "text": [
      "<class 'pandas.core.frame.DataFrame'>\n",
      "DatetimeIndex: 247 entries, 2003-01-01 to 2023-07-01\n",
      "Data columns (total 1 columns):\n",
      " #   Column         Non-Null Count  Dtype  \n",
      "---  ------         --------------  -----  \n",
      " 0   MORTGAGE RATE  247 non-null    float64\n",
      "dtypes: float64(1)\n",
      "memory usage: 3.9 KB\n"
     ]
    }
   ],
   "source": [
    "mortgage.info()"
   ]
  },
  {
   "cell_type": "code",
   "execution_count": 30,
   "id": "dbe858c8",
   "metadata": {},
   "outputs": [
    {
     "data": {
      "text/html": [
       "<div>\n",
       "<style scoped>\n",
       "    .dataframe tbody tr th:only-of-type {\n",
       "        vertical-align: middle;\n",
       "    }\n",
       "\n",
       "    .dataframe tbody tr th {\n",
       "        vertical-align: top;\n",
       "    }\n",
       "\n",
       "    .dataframe thead th {\n",
       "        text-align: right;\n",
       "    }\n",
       "</style>\n",
       "<table border=\"1\" class=\"dataframe\">\n",
       "  <thead>\n",
       "    <tr style=\"text-align: right;\">\n",
       "      <th></th>\n",
       "      <th>MORTGAGE RATE</th>\n",
       "    </tr>\n",
       "  </thead>\n",
       "  <tbody>\n",
       "    <tr>\n",
       "      <th>count</th>\n",
       "      <td>247.000000</td>\n",
       "    </tr>\n",
       "    <tr>\n",
       "      <th>mean</th>\n",
       "      <td>4.734370</td>\n",
       "    </tr>\n",
       "    <tr>\n",
       "      <th>std</th>\n",
       "      <td>1.135548</td>\n",
       "    </tr>\n",
       "    <tr>\n",
       "      <th>min</th>\n",
       "      <td>2.684000</td>\n",
       "    </tr>\n",
       "    <tr>\n",
       "      <th>25%</th>\n",
       "      <td>3.822500</td>\n",
       "    </tr>\n",
       "    <tr>\n",
       "      <th>50%</th>\n",
       "      <td>4.490000</td>\n",
       "    </tr>\n",
       "    <tr>\n",
       "      <th>75%</th>\n",
       "      <td>5.825000</td>\n",
       "    </tr>\n",
       "    <tr>\n",
       "      <th>max</th>\n",
       "      <td>6.900000</td>\n",
       "    </tr>\n",
       "  </tbody>\n",
       "</table>\n",
       "</div>"
      ],
      "text/plain": [
       "       MORTGAGE RATE\n",
       "count     247.000000\n",
       "mean        4.734370\n",
       "std         1.135548\n",
       "min         2.684000\n",
       "25%         3.822500\n",
       "50%         4.490000\n",
       "75%         5.825000\n",
       "max         6.900000"
      ]
     },
     "execution_count": 30,
     "metadata": {},
     "output_type": "execute_result"
    }
   ],
   "source": [
    "mortgage.describe()"
   ]
  },
  {
   "cell_type": "code",
   "execution_count": 31,
   "id": "7c520ef3",
   "metadata": {},
   "outputs": [],
   "source": [
    "mortgage.to_csv(\"Cleaned data/mortgage.csv\")"
   ]
  },
  {
   "cell_type": "markdown",
   "id": "d25f357d",
   "metadata": {},
   "source": [
    "4. HOUSING STARTS (HOUST)\n",
    "   - The number of new housing units under construction reflects current and future supply in the housing market, impacting home prices."
   ]
  },
  {
   "cell_type": "code",
   "execution_count": 32,
   "id": "e23219d5",
   "metadata": {},
   "outputs": [
    {
     "data": {
      "text/html": [
       "<div>\n",
       "<style scoped>\n",
       "    .dataframe tbody tr th:only-of-type {\n",
       "        vertical-align: middle;\n",
       "    }\n",
       "\n",
       "    .dataframe tbody tr th {\n",
       "        vertical-align: top;\n",
       "    }\n",
       "\n",
       "    .dataframe thead th {\n",
       "        text-align: right;\n",
       "    }\n",
       "</style>\n",
       "<table border=\"1\" class=\"dataframe\">\n",
       "  <thead>\n",
       "    <tr style=\"text-align: right;\">\n",
       "      <th></th>\n",
       "      <th>HOUSING STARTS</th>\n",
       "    </tr>\n",
       "    <tr>\n",
       "      <th>DATE</th>\n",
       "      <th></th>\n",
       "    </tr>\n",
       "  </thead>\n",
       "  <tbody>\n",
       "    <tr>\n",
       "      <th>2003-01-01</th>\n",
       "      <td>1853.0</td>\n",
       "    </tr>\n",
       "    <tr>\n",
       "      <th>2003-02-01</th>\n",
       "      <td>1629.0</td>\n",
       "    </tr>\n",
       "    <tr>\n",
       "      <th>2003-03-01</th>\n",
       "      <td>1726.0</td>\n",
       "    </tr>\n",
       "    <tr>\n",
       "      <th>2003-04-01</th>\n",
       "      <td>1643.0</td>\n",
       "    </tr>\n",
       "    <tr>\n",
       "      <th>2003-05-01</th>\n",
       "      <td>1751.0</td>\n",
       "    </tr>\n",
       "  </tbody>\n",
       "</table>\n",
       "</div>"
      ],
      "text/plain": [
       "            HOUSING STARTS\n",
       "DATE                      \n",
       "2003-01-01          1853.0\n",
       "2003-02-01          1629.0\n",
       "2003-03-01          1726.0\n",
       "2003-04-01          1643.0\n",
       "2003-05-01          1751.0"
      ]
     },
     "execution_count": 32,
     "metadata": {},
     "output_type": "execute_result"
    }
   ],
   "source": [
    "housing=pd.read_csv(\"HOUST.csv\",index_col=['DATE'])\n",
    "housing.rename(columns={'HOUST':'HOUSING STARTS'},inplace=True)\n",
    "housing.head()"
   ]
  },
  {
   "cell_type": "code",
   "execution_count": 33,
   "id": "be2c9a67",
   "metadata": {},
   "outputs": [],
   "source": [
    "housing.index=pd.to_datetime(housing.index)\n",
    "housing=housing[\"2003-01-01\":\"2023-07-01\"]"
   ]
  },
  {
   "cell_type": "code",
   "execution_count": 34,
   "id": "ca52edfa",
   "metadata": {},
   "outputs": [
    {
     "data": {
      "text/plain": [
       "(247, 1)"
      ]
     },
     "execution_count": 34,
     "metadata": {},
     "output_type": "execute_result"
    }
   ],
   "source": [
    "housing.shape"
   ]
  },
  {
   "cell_type": "code",
   "execution_count": 35,
   "id": "df12ae73",
   "metadata": {},
   "outputs": [
    {
     "name": "stdout",
     "output_type": "stream",
     "text": [
      "<class 'pandas.core.frame.DataFrame'>\n",
      "DatetimeIndex: 247 entries, 2003-01-01 to 2023-07-01\n",
      "Data columns (total 1 columns):\n",
      " #   Column          Non-Null Count  Dtype  \n",
      "---  ------          --------------  -----  \n",
      " 0   HOUSING STARTS  247 non-null    float64\n",
      "dtypes: float64(1)\n",
      "memory usage: 3.9 KB\n"
     ]
    }
   ],
   "source": [
    "housing.info()"
   ]
  },
  {
   "cell_type": "code",
   "execution_count": 36,
   "id": "0b7ca213",
   "metadata": {},
   "outputs": [
    {
     "data": {
      "text/html": [
       "<div>\n",
       "<style scoped>\n",
       "    .dataframe tbody tr th:only-of-type {\n",
       "        vertical-align: middle;\n",
       "    }\n",
       "\n",
       "    .dataframe tbody tr th {\n",
       "        vertical-align: top;\n",
       "    }\n",
       "\n",
       "    .dataframe thead th {\n",
       "        text-align: right;\n",
       "    }\n",
       "</style>\n",
       "<table border=\"1\" class=\"dataframe\">\n",
       "  <thead>\n",
       "    <tr style=\"text-align: right;\">\n",
       "      <th></th>\n",
       "      <th>HOUSING STARTS</th>\n",
       "    </tr>\n",
       "  </thead>\n",
       "  <tbody>\n",
       "    <tr>\n",
       "      <th>count</th>\n",
       "      <td>247.000000</td>\n",
       "    </tr>\n",
       "    <tr>\n",
       "      <th>mean</th>\n",
       "      <td>1253.631579</td>\n",
       "    </tr>\n",
       "    <tr>\n",
       "      <th>std</th>\n",
       "      <td>455.086588</td>\n",
       "    </tr>\n",
       "    <tr>\n",
       "      <th>min</th>\n",
       "      <td>478.000000</td>\n",
       "    </tr>\n",
       "    <tr>\n",
       "      <th>25%</th>\n",
       "      <td>924.000000</td>\n",
       "    </tr>\n",
       "    <tr>\n",
       "      <th>50%</th>\n",
       "      <td>1224.000000</td>\n",
       "    </tr>\n",
       "    <tr>\n",
       "      <th>75%</th>\n",
       "      <td>1571.000000</td>\n",
       "    </tr>\n",
       "    <tr>\n",
       "      <th>max</th>\n",
       "      <td>2273.000000</td>\n",
       "    </tr>\n",
       "  </tbody>\n",
       "</table>\n",
       "</div>"
      ],
      "text/plain": [
       "       HOUSING STARTS\n",
       "count      247.000000\n",
       "mean      1253.631579\n",
       "std        455.086588\n",
       "min        478.000000\n",
       "25%        924.000000\n",
       "50%       1224.000000\n",
       "75%       1571.000000\n",
       "max       2273.000000"
      ]
     },
     "execution_count": 36,
     "metadata": {},
     "output_type": "execute_result"
    }
   ],
   "source": [
    "housing.describe()"
   ]
  },
  {
   "cell_type": "code",
   "execution_count": 37,
   "id": "bf4babe8",
   "metadata": {},
   "outputs": [],
   "source": [
    "housing.to_csv(\"Cleaned data/housing.csv\")"
   ]
  },
  {
   "cell_type": "markdown",
   "id": "2999cb17",
   "metadata": {},
   "source": [
    "5. MEDIAN SALES PRICE (MSPUS)\n",
    "   - This directly reflects changes in the prices of homes sold within the market and serves as an indicator of market conditions."
   ]
  },
  {
   "cell_type": "code",
   "execution_count": 38,
   "id": "ab626d79",
   "metadata": {},
   "outputs": [
    {
     "data": {
      "text/html": [
       "<div>\n",
       "<style scoped>\n",
       "    .dataframe tbody tr th:only-of-type {\n",
       "        vertical-align: middle;\n",
       "    }\n",
       "\n",
       "    .dataframe tbody tr th {\n",
       "        vertical-align: top;\n",
       "    }\n",
       "\n",
       "    .dataframe thead th {\n",
       "        text-align: right;\n",
       "    }\n",
       "</style>\n",
       "<table border=\"1\" class=\"dataframe\">\n",
       "  <thead>\n",
       "    <tr style=\"text-align: right;\">\n",
       "      <th></th>\n",
       "      <th>MEDIAN SALES PRICE</th>\n",
       "    </tr>\n",
       "    <tr>\n",
       "      <th>DATE</th>\n",
       "      <th></th>\n",
       "    </tr>\n",
       "  </thead>\n",
       "  <tbody>\n",
       "    <tr>\n",
       "      <th>2003-01-01</th>\n",
       "      <td>186000.0</td>\n",
       "    </tr>\n",
       "    <tr>\n",
       "      <th>2003-04-01</th>\n",
       "      <td>191800.0</td>\n",
       "    </tr>\n",
       "    <tr>\n",
       "      <th>2003-07-01</th>\n",
       "      <td>191900.0</td>\n",
       "    </tr>\n",
       "    <tr>\n",
       "      <th>2003-10-01</th>\n",
       "      <td>198800.0</td>\n",
       "    </tr>\n",
       "    <tr>\n",
       "      <th>2004-01-01</th>\n",
       "      <td>212700.0</td>\n",
       "    </tr>\n",
       "  </tbody>\n",
       "</table>\n",
       "</div>"
      ],
      "text/plain": [
       "            MEDIAN SALES PRICE\n",
       "DATE                          \n",
       "2003-01-01            186000.0\n",
       "2003-04-01            191800.0\n",
       "2003-07-01            191900.0\n",
       "2003-10-01            198800.0\n",
       "2004-01-01            212700.0"
      ]
     },
     "execution_count": 38,
     "metadata": {},
     "output_type": "execute_result"
    }
   ],
   "source": [
    "mediansp=pd.read_csv('MSPUS.csv',index_col=['DATE'])\n",
    "mediansp.rename(columns={'MSPUS':'MEDIAN SALES PRICE'},inplace=True)\n",
    "mediansp.head()"
   ]
  },
  {
   "cell_type": "code",
   "execution_count": 39,
   "id": "e50ab183",
   "metadata": {},
   "outputs": [],
   "source": [
    "# Setting DATE as index, column renaming, setting DATE as index, filtering data from \"1987-01-01\":\"2023-07-01\"\n",
    "mediansp.index = pd.to_datetime(mediansp.index)\n",
    "\n",
    "# Resampling\n",
    "mediansp = mediansp.resample('M').ffill()\n",
    "\n",
    "# Set the day of the index to 1\n",
    "mediansp.index = mediansp.index.map(lambda x: x.replace(day=1))\n",
    "mediansp = mediansp[\"2003-01-01\":\"2023-07-01\"]"
   ]
  },
  {
   "cell_type": "code",
   "execution_count": 40,
   "id": "2ed72e91",
   "metadata": {},
   "outputs": [
    {
     "data": {
      "text/plain": [
       "(247, 1)"
      ]
     },
     "execution_count": 40,
     "metadata": {},
     "output_type": "execute_result"
    }
   ],
   "source": [
    "mediansp.shape"
   ]
  },
  {
   "cell_type": "code",
   "execution_count": 41,
   "id": "aeb7ba16",
   "metadata": {},
   "outputs": [
    {
     "name": "stdout",
     "output_type": "stream",
     "text": [
      "<class 'pandas.core.frame.DataFrame'>\n",
      "DatetimeIndex: 247 entries, 2003-01-01 to 2023-07-01\n",
      "Data columns (total 1 columns):\n",
      " #   Column              Non-Null Count  Dtype  \n",
      "---  ------              --------------  -----  \n",
      " 0   MEDIAN SALES PRICE  247 non-null    float64\n",
      "dtypes: float64(1)\n",
      "memory usage: 3.9 KB\n"
     ]
    }
   ],
   "source": [
    "mediansp.info()"
   ]
  },
  {
   "cell_type": "code",
   "execution_count": 42,
   "id": "777a67cd",
   "metadata": {},
   "outputs": [
    {
     "data": {
      "text/html": [
       "<div>\n",
       "<style scoped>\n",
       "    .dataframe tbody tr th:only-of-type {\n",
       "        vertical-align: middle;\n",
       "    }\n",
       "\n",
       "    .dataframe tbody tr th {\n",
       "        vertical-align: top;\n",
       "    }\n",
       "\n",
       "    .dataframe thead th {\n",
       "        text-align: right;\n",
       "    }\n",
       "</style>\n",
       "<table border=\"1\" class=\"dataframe\">\n",
       "  <thead>\n",
       "    <tr style=\"text-align: right;\">\n",
       "      <th></th>\n",
       "      <th>MEDIAN SALES PRICE</th>\n",
       "    </tr>\n",
       "  </thead>\n",
       "  <tbody>\n",
       "    <tr>\n",
       "      <th>count</th>\n",
       "      <td>247.000000</td>\n",
       "    </tr>\n",
       "    <tr>\n",
       "      <th>mean</th>\n",
       "      <td>283285.829960</td>\n",
       "    </tr>\n",
       "    <tr>\n",
       "      <th>std</th>\n",
       "      <td>69392.011806</td>\n",
       "    </tr>\n",
       "    <tr>\n",
       "      <th>min</th>\n",
       "      <td>186000.000000</td>\n",
       "    </tr>\n",
       "    <tr>\n",
       "      <th>25%</th>\n",
       "      <td>228100.000000</td>\n",
       "    </tr>\n",
       "    <tr>\n",
       "      <th>50%</th>\n",
       "      <td>264800.000000</td>\n",
       "    </tr>\n",
       "    <tr>\n",
       "      <th>75%</th>\n",
       "      <td>320500.000000</td>\n",
       "    </tr>\n",
       "    <tr>\n",
       "      <th>max</th>\n",
       "      <td>479500.000000</td>\n",
       "    </tr>\n",
       "  </tbody>\n",
       "</table>\n",
       "</div>"
      ],
      "text/plain": [
       "       MEDIAN SALES PRICE\n",
       "count          247.000000\n",
       "mean        283285.829960\n",
       "std          69392.011806\n",
       "min         186000.000000\n",
       "25%         228100.000000\n",
       "50%         264800.000000\n",
       "75%         320500.000000\n",
       "max         479500.000000"
      ]
     },
     "execution_count": 42,
     "metadata": {},
     "output_type": "execute_result"
    }
   ],
   "source": [
    "mediansp.describe()"
   ]
  },
  {
   "cell_type": "code",
   "execution_count": 43,
   "id": "225de948",
   "metadata": {},
   "outputs": [],
   "source": [
    "mediansp.to_csv(\"Cleaned data/mediansp.csv\")"
   ]
  },
  {
   "cell_type": "markdown",
   "id": "539009d2",
   "metadata": {},
   "source": [
    "6. HOMEOWNERSHIP RATE (RSAHORUSQ1565)\n",
    "   - Changes in the homeownership rate can influence the balance of supply and demand in the housing market, impacting home prices.\n"
   ]
  },
  {
   "cell_type": "code",
   "execution_count": 44,
   "id": "27820daa",
   "metadata": {},
   "outputs": [
    {
     "data": {
      "text/html": [
       "<div>\n",
       "<style scoped>\n",
       "    .dataframe tbody tr th:only-of-type {\n",
       "        vertical-align: middle;\n",
       "    }\n",
       "\n",
       "    .dataframe tbody tr th {\n",
       "        vertical-align: top;\n",
       "    }\n",
       "\n",
       "    .dataframe thead th {\n",
       "        text-align: right;\n",
       "    }\n",
       "</style>\n",
       "<table border=\"1\" class=\"dataframe\">\n",
       "  <thead>\n",
       "    <tr style=\"text-align: right;\">\n",
       "      <th></th>\n",
       "      <th>HOMEOWNERSHIP RATE</th>\n",
       "    </tr>\n",
       "    <tr>\n",
       "      <th>DATE</th>\n",
       "      <th></th>\n",
       "    </tr>\n",
       "  </thead>\n",
       "  <tbody>\n",
       "    <tr>\n",
       "      <th>2003-01-01</th>\n",
       "      <td>68.0</td>\n",
       "    </tr>\n",
       "    <tr>\n",
       "      <th>2003-04-01</th>\n",
       "      <td>68.0</td>\n",
       "    </tr>\n",
       "    <tr>\n",
       "      <th>2003-07-01</th>\n",
       "      <td>68.4</td>\n",
       "    </tr>\n",
       "    <tr>\n",
       "      <th>2003-10-01</th>\n",
       "      <td>68.6</td>\n",
       "    </tr>\n",
       "    <tr>\n",
       "      <th>2004-01-01</th>\n",
       "      <td>68.6</td>\n",
       "    </tr>\n",
       "  </tbody>\n",
       "</table>\n",
       "</div>"
      ],
      "text/plain": [
       "            HOMEOWNERSHIP RATE\n",
       "DATE                          \n",
       "2003-01-01                68.0\n",
       "2003-04-01                68.0\n",
       "2003-07-01                68.4\n",
       "2003-10-01                68.6\n",
       "2004-01-01                68.6"
      ]
     },
     "execution_count": 44,
     "metadata": {},
     "output_type": "execute_result"
    }
   ],
   "source": [
    "horship=pd.read_csv('RHORUSQ156N.csv',index_col=['DATE'])\n",
    "horship.rename(columns={'RHORUSQ156N':'HOMEOWNERSHIP RATE'},inplace=True)\n",
    "horship.head()"
   ]
  },
  {
   "cell_type": "code",
   "execution_count": 45,
   "id": "724a81e8",
   "metadata": {},
   "outputs": [],
   "source": [
    "# column renaming, setting DATE as index, filtering data from \"1987-01-01\":\"2023-07-01\"\n",
    "\n",
    "horship.index = pd.to_datetime(horship.index)\n",
    "\n",
    "# Resampling\n",
    "horship = horship.resample('M').ffill()\n",
    "\n",
    "# # Set the day of the index to 1\n",
    "horship.index = horship.index.map(lambda x: x.replace(day=1))\n",
    "horship = horship['2003-01-01':'2023-07-01']"
   ]
  },
  {
   "cell_type": "code",
   "execution_count": 46,
   "id": "356e9251",
   "metadata": {},
   "outputs": [
    {
     "data": {
      "text/plain": [
       "(247, 1)"
      ]
     },
     "execution_count": 46,
     "metadata": {},
     "output_type": "execute_result"
    }
   ],
   "source": [
    "horship.shape"
   ]
  },
  {
   "cell_type": "code",
   "execution_count": 47,
   "id": "dbeb2b0d",
   "metadata": {},
   "outputs": [
    {
     "name": "stdout",
     "output_type": "stream",
     "text": [
      "<class 'pandas.core.frame.DataFrame'>\n",
      "DatetimeIndex: 247 entries, 2003-01-01 to 2023-07-01\n",
      "Data columns (total 1 columns):\n",
      " #   Column              Non-Null Count  Dtype  \n",
      "---  ------              --------------  -----  \n",
      " 0   HOMEOWNERSHIP RATE  247 non-null    float64\n",
      "dtypes: float64(1)\n",
      "memory usage: 3.9 KB\n"
     ]
    }
   ],
   "source": [
    "horship.info()"
   ]
  },
  {
   "cell_type": "code",
   "execution_count": 48,
   "id": "08f4e24a",
   "metadata": {},
   "outputs": [
    {
     "data": {
      "text/html": [
       "<div>\n",
       "<style scoped>\n",
       "    .dataframe tbody tr th:only-of-type {\n",
       "        vertical-align: middle;\n",
       "    }\n",
       "\n",
       "    .dataframe tbody tr th {\n",
       "        vertical-align: top;\n",
       "    }\n",
       "\n",
       "    .dataframe thead th {\n",
       "        text-align: right;\n",
       "    }\n",
       "</style>\n",
       "<table border=\"1\" class=\"dataframe\">\n",
       "  <thead>\n",
       "    <tr style=\"text-align: right;\">\n",
       "      <th></th>\n",
       "      <th>HOMEOWNERSHIP RATE</th>\n",
       "    </tr>\n",
       "  </thead>\n",
       "  <tbody>\n",
       "    <tr>\n",
       "      <th>count</th>\n",
       "      <td>247.000000</td>\n",
       "    </tr>\n",
       "    <tr>\n",
       "      <th>mean</th>\n",
       "      <td>66.194332</td>\n",
       "    </tr>\n",
       "    <tr>\n",
       "      <th>std</th>\n",
       "      <td>1.815216</td>\n",
       "    </tr>\n",
       "    <tr>\n",
       "      <th>min</th>\n",
       "      <td>62.900000</td>\n",
       "    </tr>\n",
       "    <tr>\n",
       "      <th>25%</th>\n",
       "      <td>64.800000</td>\n",
       "    </tr>\n",
       "    <tr>\n",
       "      <th>50%</th>\n",
       "      <td>65.900000</td>\n",
       "    </tr>\n",
       "    <tr>\n",
       "      <th>75%</th>\n",
       "      <td>67.900000</td>\n",
       "    </tr>\n",
       "    <tr>\n",
       "      <th>max</th>\n",
       "      <td>69.200000</td>\n",
       "    </tr>\n",
       "  </tbody>\n",
       "</table>\n",
       "</div>"
      ],
      "text/plain": [
       "       HOMEOWNERSHIP RATE\n",
       "count          247.000000\n",
       "mean            66.194332\n",
       "std              1.815216\n",
       "min             62.900000\n",
       "25%             64.800000\n",
       "50%             65.900000\n",
       "75%             67.900000\n",
       "max             69.200000"
      ]
     },
     "execution_count": 48,
     "metadata": {},
     "output_type": "execute_result"
    }
   ],
   "source": [
    "horship.describe()"
   ]
  },
  {
   "cell_type": "code",
   "execution_count": 49,
   "id": "73f3e07a",
   "metadata": {},
   "outputs": [],
   "source": [
    "horship.to_csv(\"Cleaned data/horship.csv\")"
   ]
  },
  {
   "cell_type": "markdown",
   "id": "e77c9daa",
   "metadata": {},
   "source": [
    "7. UNRATE (Unemployment Rate)\n",
    "   - Employment and income levels impact the ability and willingness of individuals to purchase homes, thus affecting home prices."
   ]
  },
  {
   "cell_type": "code",
   "execution_count": 50,
   "id": "e180a1f2",
   "metadata": {},
   "outputs": [
    {
     "data": {
      "text/html": [
       "<div>\n",
       "<style scoped>\n",
       "    .dataframe tbody tr th:only-of-type {\n",
       "        vertical-align: middle;\n",
       "    }\n",
       "\n",
       "    .dataframe tbody tr th {\n",
       "        vertical-align: top;\n",
       "    }\n",
       "\n",
       "    .dataframe thead th {\n",
       "        text-align: right;\n",
       "    }\n",
       "</style>\n",
       "<table border=\"1\" class=\"dataframe\">\n",
       "  <thead>\n",
       "    <tr style=\"text-align: right;\">\n",
       "      <th></th>\n",
       "      <th>UNEMP RATE</th>\n",
       "    </tr>\n",
       "    <tr>\n",
       "      <th>DATE</th>\n",
       "      <th></th>\n",
       "    </tr>\n",
       "  </thead>\n",
       "  <tbody>\n",
       "    <tr>\n",
       "      <th>2003-01-01</th>\n",
       "      <td>5.8</td>\n",
       "    </tr>\n",
       "    <tr>\n",
       "      <th>2003-02-01</th>\n",
       "      <td>5.9</td>\n",
       "    </tr>\n",
       "    <tr>\n",
       "      <th>2003-03-01</th>\n",
       "      <td>5.9</td>\n",
       "    </tr>\n",
       "    <tr>\n",
       "      <th>2003-04-01</th>\n",
       "      <td>6.0</td>\n",
       "    </tr>\n",
       "    <tr>\n",
       "      <th>2003-05-01</th>\n",
       "      <td>6.1</td>\n",
       "    </tr>\n",
       "  </tbody>\n",
       "</table>\n",
       "</div>"
      ],
      "text/plain": [
       "            UNEMP RATE\n",
       "DATE                  \n",
       "2003-01-01         5.8\n",
       "2003-02-01         5.9\n",
       "2003-03-01         5.9\n",
       "2003-04-01         6.0\n",
       "2003-05-01         6.1"
      ]
     },
     "execution_count": 50,
     "metadata": {},
     "output_type": "execute_result"
    }
   ],
   "source": [
    "unemp=pd.read_csv('UNRATE.csv',index_col=['DATE'])\n",
    "unemp.rename(columns={'UNRATE':'UNEMP RATE'},inplace=True)\n",
    "unemp.head()"
   ]
  },
  {
   "cell_type": "code",
   "execution_count": 51,
   "id": "887ccbc0",
   "metadata": {},
   "outputs": [],
   "source": [
    "unemp.index=pd.to_datetime(unemp.index)\n",
    "unemp=unemp[\"2003-01-01\":\"2023-07-01\"]"
   ]
  },
  {
   "cell_type": "code",
   "execution_count": 52,
   "id": "79ad2f19",
   "metadata": {},
   "outputs": [
    {
     "data": {
      "text/plain": [
       "(247, 1)"
      ]
     },
     "execution_count": 52,
     "metadata": {},
     "output_type": "execute_result"
    }
   ],
   "source": [
    "unemp.shape"
   ]
  },
  {
   "cell_type": "code",
   "execution_count": 53,
   "id": "adfdd263",
   "metadata": {},
   "outputs": [
    {
     "name": "stdout",
     "output_type": "stream",
     "text": [
      "<class 'pandas.core.frame.DataFrame'>\n",
      "DatetimeIndex: 247 entries, 2003-01-01 to 2023-07-01\n",
      "Data columns (total 1 columns):\n",
      " #   Column      Non-Null Count  Dtype  \n",
      "---  ------      --------------  -----  \n",
      " 0   UNEMP RATE  247 non-null    float64\n",
      "dtypes: float64(1)\n",
      "memory usage: 3.9 KB\n"
     ]
    }
   ],
   "source": [
    "unemp.info()"
   ]
  },
  {
   "cell_type": "code",
   "execution_count": 54,
   "id": "25d45c6a",
   "metadata": {},
   "outputs": [
    {
     "data": {
      "text/html": [
       "<div>\n",
       "<style scoped>\n",
       "    .dataframe tbody tr th:only-of-type {\n",
       "        vertical-align: middle;\n",
       "    }\n",
       "\n",
       "    .dataframe tbody tr th {\n",
       "        vertical-align: top;\n",
       "    }\n",
       "\n",
       "    .dataframe thead th {\n",
       "        text-align: right;\n",
       "    }\n",
       "</style>\n",
       "<table border=\"1\" class=\"dataframe\">\n",
       "  <thead>\n",
       "    <tr style=\"text-align: right;\">\n",
       "      <th></th>\n",
       "      <th>UNEMP RATE</th>\n",
       "    </tr>\n",
       "  </thead>\n",
       "  <tbody>\n",
       "    <tr>\n",
       "      <th>count</th>\n",
       "      <td>247.000000</td>\n",
       "    </tr>\n",
       "    <tr>\n",
       "      <th>mean</th>\n",
       "      <td>5.941700</td>\n",
       "    </tr>\n",
       "    <tr>\n",
       "      <th>std</th>\n",
       "      <td>2.047128</td>\n",
       "    </tr>\n",
       "    <tr>\n",
       "      <th>min</th>\n",
       "      <td>3.400000</td>\n",
       "    </tr>\n",
       "    <tr>\n",
       "      <th>25%</th>\n",
       "      <td>4.450000</td>\n",
       "    </tr>\n",
       "    <tr>\n",
       "      <th>50%</th>\n",
       "      <td>5.400000</td>\n",
       "    </tr>\n",
       "    <tr>\n",
       "      <th>75%</th>\n",
       "      <td>7.250000</td>\n",
       "    </tr>\n",
       "    <tr>\n",
       "      <th>max</th>\n",
       "      <td>14.700000</td>\n",
       "    </tr>\n",
       "  </tbody>\n",
       "</table>\n",
       "</div>"
      ],
      "text/plain": [
       "       UNEMP RATE\n",
       "count  247.000000\n",
       "mean     5.941700\n",
       "std      2.047128\n",
       "min      3.400000\n",
       "25%      4.450000\n",
       "50%      5.400000\n",
       "75%      7.250000\n",
       "max     14.700000"
      ]
     },
     "execution_count": 54,
     "metadata": {},
     "output_type": "execute_result"
    }
   ],
   "source": [
    "unemp.describe()"
   ]
  },
  {
   "cell_type": "code",
   "execution_count": 55,
   "id": "e0f9264b",
   "metadata": {},
   "outputs": [],
   "source": [
    "unemp.to_csv(\"Cleaned data/unemp.csv\")"
   ]
  }
 ],
 "metadata": {
  "kernelspec": {
   "display_name": "Python 3 (ipykernel)",
   "language": "python",
   "name": "python3"
  },
  "language_info": {
   "codemirror_mode": {
    "name": "ipython",
    "version": 3
   },
   "file_extension": ".py",
   "mimetype": "text/x-python",
   "name": "python",
   "nbconvert_exporter": "python",
   "pygments_lexer": "ipython3",
   "version": "3.11.5"
  }
 },
 "nbformat": 4,
 "nbformat_minor": 5
}
